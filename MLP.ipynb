{
 "cells": [
  {
   "cell_type": "code",
   "execution_count": 1,
   "metadata": {},
   "outputs": [],
   "source": [
    "import pandas\n",
    "import joblib\n",
    "import numpy as np\n",
    "import matplotlib.pyplot as plt\n",
    "import sklearn.model_selection\n",
    "import sklearn.metrics\n",
    "import sklearn.neural_network"
   ]
  },
  {
   "cell_type": "code",
   "execution_count": 2,
   "metadata": {},
   "outputs": [],
   "source": [
    "from sklearn.metrics import accuracy_score,confusion_matrix,classification_report\n",
    "import matplotlib.pyplot as plt\n",
    "\n",
    "def confusion_matrix(y_test, predictions):\n",
    "\n",
    "    cm=confusion_matrix(y_test,predictions)\n",
    "# sns.heatmap(cm,annot=True)\n",
    "# print(cm)\n",
    "    conf_matrix = confusion_matrix(y_true=y_test, predictions=predictions)\n",
    "#\n",
    "# Print the confusion matrix using Matplotlib\n",
    "#\n",
    "    fig, ax = plt.subplots(figsize=(7.5, 7.5))\n",
    "    ax.matshow(conf_matrix, cmap=plt.cm.Blues, alpha=0.3)\n",
    "    for i in range(conf_matrix.shape[0]):\n",
    "        for j in range(conf_matrix.shape[1]):\n",
    "            ax.text(x=j, y=i,s=conf_matrix[i, j], va='center', ha='center', size='xx-large')\n",
    " \n",
    "    plt.xlabel('Predictions', fontsize=18)\n",
    "    plt.ylabel('Actuals', fontsize=18)\n",
    "    plt.title('Confusion Matrix', fontsize=18)\n",
    "    plt.show()\n"
   ]
  },
  {
   "cell_type": "code",
   "execution_count": 15,
   "metadata": {},
   "outputs": [],
   "source": [
    "# Train and evaluate\n",
    "def train_and_evaluate(X_train, Y_train, X_test, Y_test):\n",
    "    \n",
    "    # Create a model\n",
    "#     model = sklearn.neural_network.MLPClassifier(activation='relu', solver='adam', \n",
    "#                                                  alpha=0.0001, batch_size='auto', learning_rate='constant', learning_rate_init=0.001, power_t=0.5, \n",
    "#                                                  max_iter=1000, shuffle=True, random_state=None, tol=0.0001, verbose=False, warm_start=False, momentum=0.9, \n",
    "#                                                  nesterovs_momentum=True, early_stopping=False, validation_fraction=0.1, beta_1=0.9, beta_2=0.999, epsilon=1e-08, \n",
    "#                                                  n_iter_no_change=10)\n",
    "    \n",
    "    model = sklearn.neural_network.MLPClassifier()\n",
    "#     model = sklearn.neural_network.MLPClassifier(hidden_layer_sizes=(100,100,100), max_iter=100, alpha=0.0001,\n",
    "#                                                      solver='sgd', verbose=10,  random_state=21,tol=0.000000001)\n",
    "    # Train the model on the whole data set\n",
    "    model.fit(X_train, Y_train)\n",
    "    # Save the model (Make sure that the folder exists)\n",
    "    joblib.dump(model, 'mlp_classifier.jbl')\n",
    "    # Evaluate on training data\n",
    "    print('\\n-- Training data --')\n",
    "    predictions = model.predict(X_train)\n",
    "    accuracy = sklearn.metrics.accuracy_score(Y_train, predictions)\n",
    "    print('Accuracy: {0:.2f}'.format(accuracy * 100.0))\n",
    "    print('Classification Report:')\n",
    "    print(sklearn.metrics.classification_report(Y_train, predictions))\n",
    "    print('Confusion Matrix:')\n",
    "    print(sklearn.metrics.confusion_matrix(Y_train, predictions))\n",
    "    print('')\n",
    "    \n",
    "    # Evaluate on test data\n",
    "    print('\\n---- Test data ----')\n",
    "    predictions = model.predict(X_test)\n",
    "    accuracy = sklearn.metrics.accuracy_score(Y_test, predictions)\n",
    "    print('Accuracy: {0:.2f}'.format(accuracy * 100.0))\n",
    "    print('Classification Report:')\n",
    "    print(sklearn.metrics.classification_report(Y_test, predictions))\n",
    "    \n",
    "    from sklearn.metrics import roc_auc_score\n",
    "    from sklearn.metrics import roc_curve\n",
    "    logit_roc_auc = roc_auc_score(Y_test, model.predict(X_test))\n",
    "    fpr, tpr, thresholds = roc_curve(Y_test, model.predict_proba(X_test)[:,1])\n",
    "    plt.figure()\n",
    "    plt.plot(fpr, tpr, label='MLP (area = %0.2f)' % logit_roc_auc)\n",
    "    plt.plot([0, 1], [0, 1],'r--')\n",
    "    plt.xlim([0.0, 1.0])\n",
    "    plt.ylim([0.0, 1.05])\n",
    "    plt.xlabel('False Positive Rate')\n",
    "    plt.ylabel('True Positive Rate')\n",
    "    plt.title('Receiver operating characteristic')\n",
    "    plt.legend(loc=\"lower right\")\n",
    "    plt.savefig('Log_ROC')\n",
    "    plt.show()\n",
    "#     print('Confusion Matrix:')\n",
    "#     confusion_matrix(Y_test, predictions)\n",
    "#     print(sklearn.metrics.confusion_matrix(Y_test, predictions))\n"
   ]
  },
  {
   "cell_type": "code",
   "execution_count": 12,
   "metadata": {},
   "outputs": [],
   "source": [
    "def plot_classifier(X, Y):\n",
    "    \n",
    "    # Load the model\n",
    "    model = joblib.load('mlp_classifier.jbl')\n",
    "    # Calculate\n",
    "    h = 0.02\n",
    "    x_min, x_max = X[:, 0].min() - 1, X[:, 0].max() + 1\n",
    "    y_min, y_max = X[:, 1].min() - 1, X[:, 1].max() + 1\n",
    "    xx, yy = np.meshgrid(np.arange(x_min, x_max, h), np.arange(y_min, y_max, h))\n",
    "    \n",
    "    # Make predictions\n",
    "    Z = model.predict(np.c_[xx.ravel(), yy.ravel()])\n",
    "    Z = Z.reshape(xx.shape)\n",
    "    # Plot diagram\n",
    "    fig = plt.figure(figsize = (12, 8))\n",
    "    plt.contourf(xx, yy, Z, cmap='ocean', alpha=0.25)\n",
    "    plt.contour(xx, yy, Z, colors='w', linewidths=0.4)\n",
    "    plt.scatter(X[:, 0], X[:, 1], c=Y, s=40, cmap='Spectral')\n",
    "    plt.xlim(xx.min(), xx.max())\n",
    "    plt.ylim(yy.min(), yy.max())\n",
    "    plt.savefig('mlp_classifier.png')\n"
   ]
  },
  {
   "cell_type": "code",
   "execution_count": 16,
   "metadata": {},
   "outputs": [],
   "source": [
    "def main():\n",
    "    # Load data set (includes header values)\n",
    "    df = pandas.read_csv('combined_dataset.csv')\n",
    "    # Slice data set in data and labels (2D-array)\n",
    "    inputs = df.drop(['label', 'domain'], axis=1)\n",
    "    outputs = df.label\n",
    "    # Split data set in train and test (use random state to get the same split every time, and stratify to keep balance)\n",
    "            \n",
    "    x_train, x_test, y_train, y_test = sklearn.model_selection.train_test_split(inputs, outputs, test_size=0.25, random_state=5, stratify=outputs)\n",
    "    print(\"Training set has {} samples.\".format(x_train.shape[0]))\n",
    "    print(\"Testing set has {} samples.\".format(x_test.shape[0]))\n",
    "    \n",
    "#     X_train, X_test, Y_train, Y_test = sklearn.model_selection.train_test_split(X, Y, test_size=0.2, random_state=5, stratify=Y)\n",
    "    # Make sure that data still is balanced\n",
    "    print('\\n--- Class balance ---')\n",
    "    print(np.unique(y_train, return_counts=True))\n",
    "    print(np.unique(y_test, return_counts=True))\n",
    "    # Train and evaluate\n",
    "    train_and_evaluate(x_train, y_train, x_test, y_test)\n",
    "    # Plot classifier\n",
    "#     plot_classifier(inputs, outputs)"
   ]
  },
  {
   "cell_type": "code",
   "execution_count": 18,
   "metadata": {},
   "outputs": [
    {
     "name": "stdout",
     "output_type": "stream",
     "text": [
      "Training set has 71932 samples.\n",
      "Testing set has 23978 samples.\n",
      "\n",
      "--- Class balance ---\n",
      "(array([0, 1], dtype=int64), array([29997, 41935], dtype=int64))\n",
      "(array([0, 1], dtype=int64), array([ 9999, 13979], dtype=int64))\n"
     ]
    },
    {
     "name": "stderr",
     "output_type": "stream",
     "text": [
      "C:\\Users\\Akash Selvakumar\\Anaconda3\\lib\\site-packages\\sklearn\\neural_network\\multilayer_perceptron.py:568: UserWarning: Training interrupted by user.\n",
      "  warnings.warn(\"Training interrupted by user.\")\n"
     ]
    },
    {
     "name": "stdout",
     "output_type": "stream",
     "text": [
      "\n",
      "-- Training data --\n",
      "Accuracy: 84.20\n",
      "Classification Report:\n",
      "              precision    recall  f1-score   support\n",
      "\n",
      "           0       0.81      0.81      0.81     29997\n",
      "           1       0.86      0.87      0.86     41935\n",
      "\n",
      "    accuracy                           0.84     71932\n",
      "   macro avg       0.84      0.84      0.84     71932\n",
      "weighted avg       0.84      0.84      0.84     71932\n",
      "\n",
      "Confusion Matrix:\n",
      "[[24280  5717]\n",
      " [ 5649 36286]]\n",
      "\n",
      "\n",
      "---- Test data ----\n",
      "Accuracy: 84.23\n",
      "Classification Report:\n",
      "              precision    recall  f1-score   support\n",
      "\n",
      "           0       0.81      0.81      0.81      9999\n",
      "           1       0.87      0.86      0.86     13979\n",
      "\n",
      "    accuracy                           0.84     23978\n",
      "   macro avg       0.84      0.84      0.84     23978\n",
      "weighted avg       0.84      0.84      0.84     23978\n",
      "\n"
     ]
    },
    {
     "data": {
      "image/png": "[encoded data removed]",
      "text/plain": [
       "<Figure size 432x288 with 1 Axes>"
      ]
     },
     "metadata": {
      "needs_background": "light"
     },
     "output_type": "display_data"
    }
   ],
   "source": [
    "if __name__ == \"__main__\": main()"
   ]
  },
  {
   "cell_type": "code",
   "execution_count": null,
   "metadata": {},
   "outputs": [],
   "source": []
  },
  {
   "cell_type": "code",
   "execution_count": null,
   "metadata": {},
   "outputs": [],
   "source": []
  }
 ],
 "metadata": {
  "kernelspec": {
   "display_name": "Python 3",
   "language": "python",
   "name": "python3"
  },
  "language_info": {
   "codemirror_mode": {
    "name": "ipython",
    "version": 3
   },
   "file_extension": ".py",
   "mimetype": "text/x-python",
   "name": "python",
   "nbconvert_exporter": "python",
   "pygments_lexer": "ipython3",
   "version": "3.7.4"
  }
 },
 "nbformat": 4,
 "nbformat_minor": 4
}
